{
 "cells": [
  {
   "cell_type": "markdown",
   "metadata": {},
   "source": [
    "# Predicting Survival of Titanic pessengers\n",
    "\n",
    "## Background\n",
    "<p>RMS Titanic was a British passenger liner, operated by the White Star Line, which sank in the North Atlantic Ocean on 15 April 1912 after striking an iceberg during her maiden voyage from Southampton, UK, to New York City. Of the estimated 2,224 passengers and crew aboard, more than 1,500 died, which made the sinking one of the deadliest for a single ship up to that time. It remains to this day the deadliest peacetime sinking of a superliner or cruise ship.</p>\n",
    "\n",
    "## Project\n",
    "\n",
    "<p>In this project, you have to build a machine learning model to predict the survival of pessenger. You have to write a program that by providing pessenger id or name of the pessenger from Test dataset, should predict whether the pessenger has possibility to survive or not</p>\n",
    "\n",
    "## Dataset\n",
    "\n",
    "<p>There are essentially two files in this dataset - train.csv and test.csv. These files have following features - passenger Id, class, name, gender, age, parch (number of parent or children), SubSp (Number of siblings or spouses), ticket, fare, cabin, embarked. You need to select the features that best suit for your prediction. For example, around 75% female passengers that were on Titanic survived. Thus gender can be a distinct feature in predicting if the passenger survived or not.</p>\n",
    "\n",
    "## Algorithm\n",
    "\n",
    "<p>You can use any prediction algorithm from any library that you want. Important is that code should be written in Python and as a program. Meaning, no Notebooks submission. You also need to be able to explain why you selected a specific algorithm/classifier for your machine learning task.</p>\n",
    "\n",
    "## Deliverables\n",
    "\n",
    "<ol>\n",
    "<li>Visualization of Selected features - For each feature you select, you need to visual survival distribution for each one of them. For example, survival distribution of gender.</li>\n",
    "<li>A program that takes passenger id as input and returns prediction score (In percentage) of survival</li>\n",
    "<li>Bonus points if the program takes Name of the passenger as input</li>\n",
    "<li>Bonus points if you build a simple GUI for input submission and output visualization</li>\n",
    "</ol>"
   ]
  }
 ],
 "metadata": {
  "language_info": {
   "name": "python"
  },
  "orig_nbformat": 4
 },
 "nbformat": 4,
 "nbformat_minor": 2
}
