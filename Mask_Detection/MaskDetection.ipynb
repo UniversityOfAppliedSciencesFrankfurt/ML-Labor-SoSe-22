{
 "cells": [
  {
   "cell_type": "markdown",
   "metadata": {},
   "source": [
    "# Mask detection on Face\n",
    "\n",
    "## Background\n",
    "\n",
    "<p>After the first Covid-19 wave in early 2020, masks became a common object in our life until very recent time. In many places medical authorities are still to this date recommending usage of Masks. As wearing mask was a requirement for entering many places such as grocery stores, it became a tedious task to monitor is customer is wearing mask all the time. Thus, a program that can detect mask on face is an interesting idea that can tackle this problem</p>\n",
    "\n",
    "## Problem Statement\n",
    "\n",
    "<p>In this project you need to build a machine learning model that detects Face Mask in crowded areas</p>\n",
    "\n",
    "## Dataset\n",
    "\n",
    "<p>The dataset consists of 12000 images. It is divided into three folders - Train, Test, Validation. There are in total 10000 images in train folder, and 1000 each in test and validation folders.</p>\n",
    "<p>Each folder is then further divided into two sub-folders - with masks and without masks.</p>\n",
    "\n",
    "## Algorithm\n",
    "\n",
    "<p>You can use any classification algorithm including neural networks to build a detection program. In the end, by providing a test image, program should detect whether the face in the image is wearing a mask or not.</p>\n",
    "<p>The code needs to be written in python and should be in form of program. Meaning, NO submission using notebooks</p>\n",
    "\n",
    "## Deliverables\n",
    "\n",
    "<ol>\n",
    "<li>\n",
    "Program that takes input as image, and returns output in form of true or false - True -> Mask detected, False -> Mask not detected.\n",
    "</li>\n",
    "<li>\n",
    "Visualisation of accuracy score of test data\n",
    "</li>\n",
    "<li>In case of using Neural Networks, Visualisation of learning (Epochs, accuracy, error)</li>\n",
    "<li>Bonus points for building a GUI</li>\n",
    "</ol>\n",
    "\n"
   ]
  }
 ],
 "metadata": {
  "language_info": {
   "name": "python"
  },
  "orig_nbformat": 4
 },
 "nbformat": 4,
 "nbformat_minor": 2
}
