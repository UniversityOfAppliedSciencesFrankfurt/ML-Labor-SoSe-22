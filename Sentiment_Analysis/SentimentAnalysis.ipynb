{
 "cells": [
  {
   "cell_type": "markdown",
   "metadata": {},
   "source": [
    "# Sentiment Analysis based on Tweets\n",
    "\n",
    "## Background\n",
    "\n",
    "<p>Twitter is a popular social media platform that allows users to write 140 characters messages on its message board, that appears to the feed of other users. Using these tweets one can do the sentiment analysis of the tweet presentation. For example, whether a tweet has positive sentiment or negative.</p>\n",
    "\n",
    "## Problem Statement\n",
    "\n",
    "<p>In this project you need to build a machine learning model that detects the sentiment of a text string. You will be build this model based on dataset of tweets from twitter.</p>\n",
    "\n",
    "## Dataset\n",
    "\n",
    "<p>The dataset consists of 1,600,000 tweets extracted using the twitter api. The tweets have been annotated (0 = negative, 2 = neutral, 4 = positive) and they can be used to detect sentiment. It contains the following 6 fields:\n",
    "\n",
    "<li>target: the polarity of the tweet (0 = negative, 2 = neutral, 4 = positive)\n",
    "<li>ids: The id of the tweet ( 2087)\n",
    "<li>date: the date of the tweet (Sat May 16 23:58:44 UTC 2009)\n",
    "<li>flag: The query (lyx). If there is no query, then this value is NO_QUERY.\n",
    "<li>user: the user that tweeted (robotickilldozr)\n",
    "<li>text: the text of the tweet (Lyx is cool)</p>\n",
    "\n",
    "## Algorithm\n",
    "\n",
    "<p>You can use any NLP algorithm to achieve the sentiment analysis. The algorithm should build a model based on Tweets as input. Then this model can receive any input string e.g. \"I love Pizza\" and should predict the sentiment of the sentence. e.g. If the statement is positive or negative.</p>\n",
    "\n",
    "## Deliverables\n",
    "\n",
    "<ol>\n",
    "<li>\n",
    "Program that takes input as a text string and returns the Positive or Negative as sentiment.\n",
    "</li>\n",
    "<li>\n",
    "Visualisation of confusion matrix on test dataset for true label vs predicted label.\n",
    "</li>\n",
    "<li>Visualisation of training and testing accuracy and loss.</li>\n",
    "</ol>\n",
    "\n"
   ]
  }
 ],
 "metadata": {
  "language_info": {
   "name": "python"
  },
  "orig_nbformat": 4
 },
 "nbformat": 4,
 "nbformat_minor": 2
}
